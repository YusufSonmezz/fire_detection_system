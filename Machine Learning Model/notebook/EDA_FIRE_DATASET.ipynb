{
 "cells": [
  {
   "cell_type": "code",
   "execution_count": 1,
   "metadata": {},
   "outputs": [],
   "source": [
    "import numpy as np\n",
    "import pandas as pd\n",
    "import seaborn as sns\n",
    "import matplotlib.pyplot as plt\n",
    "%matplotlib inline\n",
    "import warnings\n",
    "warnings.filterwarnings('ignore')"
   ]
  },
  {
   "cell_type": "code",
   "execution_count": 17,
   "metadata": {},
   "outputs": [],
   "source": [
    "df = pd.read_csv(\"data/nasa_dataset/output_area_2.csv\")"
   ]
  },
  {
   "cell_type": "code",
   "execution_count": 20,
   "metadata": {},
   "outputs": [],
   "source": [
    "if \"day\" in df.columns:\n",
    "    df.rename(columns={\"day\": \"day_night\"}, inplace=True)"
   ]
  },
  {
   "cell_type": "code",
   "execution_count": 21,
   "metadata": {},
   "outputs": [
    {
     "data": {
      "text/html": [
       "<div>\n",
       "<style scoped>\n",
       "    .dataframe tbody tr th:only-of-type {\n",
       "        vertical-align: middle;\n",
       "    }\n",
       "\n",
       "    .dataframe tbody tr th {\n",
       "        vertical-align: top;\n",
       "    }\n",
       "\n",
       "    .dataframe thead th {\n",
       "        text-align: right;\n",
       "    }\n",
       "</style>\n",
       "<table border=\"1\" class=\"dataframe\">\n",
       "  <thead>\n",
       "    <tr style=\"text-align: right;\">\n",
       "      <th></th>\n",
       "      <th>year</th>\n",
       "      <th>month</th>\n",
       "      <th>temperature</th>\n",
       "      <th>RH</th>\n",
       "      <th>wind_speed</th>\n",
       "      <th>frp</th>\n",
       "      <th>day_night</th>\n",
       "      <th>daily_cdd</th>\n",
       "      <th>daily_hdd</th>\n",
       "      <th>perc_frp</th>\n",
       "      <th>burned_area</th>\n",
       "    </tr>\n",
       "  </thead>\n",
       "  <tbody>\n",
       "    <tr>\n",
       "      <th>0</th>\n",
       "      <td>2015</td>\n",
       "      <td>1</td>\n",
       "      <td>9.284265</td>\n",
       "      <td>0.689222</td>\n",
       "      <td>6.951015</td>\n",
       "      <td>6.4</td>\n",
       "      <td>1</td>\n",
       "      <td>0.000000</td>\n",
       "      <td>0.715735</td>\n",
       "      <td>0.055315</td>\n",
       "      <td>84.305037</td>\n",
       "    </tr>\n",
       "    <tr>\n",
       "      <th>1</th>\n",
       "      <td>2015</td>\n",
       "      <td>1</td>\n",
       "      <td>10.481195</td>\n",
       "      <td>0.716552</td>\n",
       "      <td>15.878100</td>\n",
       "      <td>9.9</td>\n",
       "      <td>1</td>\n",
       "      <td>0.481195</td>\n",
       "      <td>0.000000</td>\n",
       "      <td>0.085566</td>\n",
       "      <td>130.409354</td>\n",
       "    </tr>\n",
       "    <tr>\n",
       "      <th>2</th>\n",
       "      <td>2015</td>\n",
       "      <td>1</td>\n",
       "      <td>0.069574</td>\n",
       "      <td>0.751346</td>\n",
       "      <td>7.876296</td>\n",
       "      <td>19.8</td>\n",
       "      <td>1</td>\n",
       "      <td>0.000000</td>\n",
       "      <td>9.930426</td>\n",
       "      <td>0.171132</td>\n",
       "      <td>260.818709</td>\n",
       "    </tr>\n",
       "    <tr>\n",
       "      <th>3</th>\n",
       "      <td>2015</td>\n",
       "      <td>1</td>\n",
       "      <td>1.479761</td>\n",
       "      <td>0.769021</td>\n",
       "      <td>10.005970</td>\n",
       "      <td>7.8</td>\n",
       "      <td>1</td>\n",
       "      <td>0.000000</td>\n",
       "      <td>8.520239</td>\n",
       "      <td>0.067416</td>\n",
       "      <td>102.746764</td>\n",
       "    </tr>\n",
       "    <tr>\n",
       "      <th>4</th>\n",
       "      <td>2015</td>\n",
       "      <td>1</td>\n",
       "      <td>6.572412</td>\n",
       "      <td>0.608134</td>\n",
       "      <td>2.239136</td>\n",
       "      <td>8.3</td>\n",
       "      <td>1</td>\n",
       "      <td>0.000000</td>\n",
       "      <td>3.427588</td>\n",
       "      <td>0.071737</td>\n",
       "      <td>109.333095</td>\n",
       "    </tr>\n",
       "  </tbody>\n",
       "</table>\n",
       "</div>"
      ],
      "text/plain": [
       "   year  month  temperature        RH  wind_speed   frp  day_night  daily_cdd  \\\n",
       "0  2015      1     9.284265  0.689222    6.951015   6.4          1   0.000000   \n",
       "1  2015      1    10.481195  0.716552   15.878100   9.9          1   0.481195   \n",
       "2  2015      1     0.069574  0.751346    7.876296  19.8          1   0.000000   \n",
       "3  2015      1     1.479761  0.769021   10.005970   7.8          1   0.000000   \n",
       "4  2015      1     6.572412  0.608134    2.239136   8.3          1   0.000000   \n",
       "\n",
       "   daily_hdd  perc_frp  burned_area  \n",
       "0   0.715735  0.055315    84.305037  \n",
       "1   0.000000  0.085566   130.409354  \n",
       "2   9.930426  0.171132   260.818709  \n",
       "3   8.520239  0.067416   102.746764  \n",
       "4   3.427588  0.071737   109.333095  "
      ]
     },
     "execution_count": 21,
     "metadata": {},
     "output_type": "execute_result"
    }
   ],
   "source": [
    "df.head()"
   ]
  },
  {
   "cell_type": "code",
   "execution_count": 22,
   "metadata": {},
   "outputs": [
    {
     "data": {
      "text/plain": [
       "(5279, 11)"
      ]
     },
     "execution_count": 22,
     "metadata": {},
     "output_type": "execute_result"
    }
   ],
   "source": [
    "df.shape"
   ]
  },
  {
   "cell_type": "markdown",
   "metadata": {},
   "source": [
    "## Dataset Information\n",
    "* Year\n",
    "* Month\n",
    "* Temperature: temperature in Celsius degrees\n",
    "* RH:          relative humidity in %\n",
    "* Wind_speed:  wind speed in km/h\n",
    "* frp:         Fire radiation power\n",
    "* day_night:   indicate fire occured at day or night\n",
    "* daily_cdd:   indicate how much of the 24 h it is cold\n",
    "* daily_hdd:   indicate how much of the 24 h it is hot\n",
    "* perc_frp:    percantage of frp monthly\n",
    "* burned_area: the burned area of the forest (in ha)"
   ]
  },
  {
   "cell_type": "markdown",
   "metadata": {},
   "source": [
    "### Check Missing Values"
   ]
  },
  {
   "cell_type": "code",
   "execution_count": 23,
   "metadata": {},
   "outputs": [
    {
     "data": {
      "text/plain": [
       "year           0\n",
       "month          0\n",
       "temperature    0\n",
       "RH             0\n",
       "wind_speed     0\n",
       "frp            0\n",
       "day_night      0\n",
       "daily_cdd      0\n",
       "daily_hdd      0\n",
       "perc_frp       0\n",
       "burned_area    0\n",
       "dtype: int64"
      ]
     },
     "execution_count": 23,
     "metadata": {},
     "output_type": "execute_result"
    }
   ],
   "source": [
    "df.isna().sum()"
   ]
  },
  {
   "cell_type": "markdown",
   "metadata": {},
   "source": [
    "### Check Duplicates"
   ]
  },
  {
   "cell_type": "code",
   "execution_count": 24,
   "metadata": {},
   "outputs": [
    {
     "data": {
      "text/plain": [
       "68"
      ]
     },
     "execution_count": 24,
     "metadata": {},
     "output_type": "execute_result"
    }
   ],
   "source": [
    "df.duplicated().sum()"
   ]
  },
  {
   "cell_type": "code",
   "execution_count": 25,
   "metadata": {},
   "outputs": [
    {
     "data": {
      "text/html": [
       "<div>\n",
       "<style scoped>\n",
       "    .dataframe tbody tr th:only-of-type {\n",
       "        vertical-align: middle;\n",
       "    }\n",
       "\n",
       "    .dataframe tbody tr th {\n",
       "        vertical-align: top;\n",
       "    }\n",
       "\n",
       "    .dataframe thead th {\n",
       "        text-align: right;\n",
       "    }\n",
       "</style>\n",
       "<table border=\"1\" class=\"dataframe\">\n",
       "  <thead>\n",
       "    <tr style=\"text-align: right;\">\n",
       "      <th></th>\n",
       "      <th>year</th>\n",
       "      <th>month</th>\n",
       "      <th>temperature</th>\n",
       "      <th>RH</th>\n",
       "      <th>wind_speed</th>\n",
       "      <th>frp</th>\n",
       "      <th>day_night</th>\n",
       "      <th>daily_cdd</th>\n",
       "      <th>daily_hdd</th>\n",
       "      <th>perc_frp</th>\n",
       "      <th>burned_area</th>\n",
       "    </tr>\n",
       "  </thead>\n",
       "  <tbody>\n",
       "    <tr>\n",
       "      <th>157</th>\n",
       "      <td>2015</td>\n",
       "      <td>6</td>\n",
       "      <td>23.997797</td>\n",
       "      <td>0.345502</td>\n",
       "      <td>1.578224</td>\n",
       "      <td>6.3</td>\n",
       "      <td>1</td>\n",
       "      <td>13.997797</td>\n",
       "      <td>0.0</td>\n",
       "      <td>0.001503</td>\n",
       "      <td>243.640438</td>\n",
       "    </tr>\n",
       "    <tr>\n",
       "      <th>553</th>\n",
       "      <td>2015</td>\n",
       "      <td>8</td>\n",
       "      <td>29.474725</td>\n",
       "      <td>0.294372</td>\n",
       "      <td>4.252460</td>\n",
       "      <td>9.0</td>\n",
       "      <td>1</td>\n",
       "      <td>19.474725</td>\n",
       "      <td>0.0</td>\n",
       "      <td>0.001553</td>\n",
       "      <td>220.404990</td>\n",
       "    </tr>\n",
       "    <tr>\n",
       "      <th>698</th>\n",
       "      <td>2015</td>\n",
       "      <td>9</td>\n",
       "      <td>30.646082</td>\n",
       "      <td>0.270595</td>\n",
       "      <td>1.678217</td>\n",
       "      <td>11.8</td>\n",
       "      <td>1</td>\n",
       "      <td>20.646082</td>\n",
       "      <td>0.0</td>\n",
       "      <td>0.000589</td>\n",
       "      <td>148.361345</td>\n",
       "    </tr>\n",
       "    <tr>\n",
       "      <th>702</th>\n",
       "      <td>2015</td>\n",
       "      <td>9</td>\n",
       "      <td>30.646082</td>\n",
       "      <td>0.270595</td>\n",
       "      <td>1.678217</td>\n",
       "      <td>7.2</td>\n",
       "      <td>1</td>\n",
       "      <td>20.646082</td>\n",
       "      <td>0.0</td>\n",
       "      <td>0.000360</td>\n",
       "      <td>90.525567</td>\n",
       "    </tr>\n",
       "    <tr>\n",
       "      <th>706</th>\n",
       "      <td>2015</td>\n",
       "      <td>9</td>\n",
       "      <td>30.646082</td>\n",
       "      <td>0.270595</td>\n",
       "      <td>1.678217</td>\n",
       "      <td>7.8</td>\n",
       "      <td>1</td>\n",
       "      <td>20.646082</td>\n",
       "      <td>0.0</td>\n",
       "      <td>0.000390</td>\n",
       "      <td>98.069364</td>\n",
       "    </tr>\n",
       "    <tr>\n",
       "      <th>...</th>\n",
       "      <td>...</td>\n",
       "      <td>...</td>\n",
       "      <td>...</td>\n",
       "      <td>...</td>\n",
       "      <td>...</td>\n",
       "      <td>...</td>\n",
       "      <td>...</td>\n",
       "      <td>...</td>\n",
       "      <td>...</td>\n",
       "      <td>...</td>\n",
       "      <td>...</td>\n",
       "    </tr>\n",
       "    <tr>\n",
       "      <th>4544</th>\n",
       "      <td>2017</td>\n",
       "      <td>10</td>\n",
       "      <td>17.032068</td>\n",
       "      <td>0.407724</td>\n",
       "      <td>5.089718</td>\n",
       "      <td>6.1</td>\n",
       "      <td>1</td>\n",
       "      <td>7.032068</td>\n",
       "      <td>0.0</td>\n",
       "      <td>0.001632</td>\n",
       "      <td>105.270504</td>\n",
       "    </tr>\n",
       "    <tr>\n",
       "      <th>4605</th>\n",
       "      <td>2017</td>\n",
       "      <td>10</td>\n",
       "      <td>18.311487</td>\n",
       "      <td>0.311643</td>\n",
       "      <td>8.693437</td>\n",
       "      <td>5.0</td>\n",
       "      <td>1</td>\n",
       "      <td>8.311487</td>\n",
       "      <td>0.0</td>\n",
       "      <td>0.001338</td>\n",
       "      <td>86.287299</td>\n",
       "    </tr>\n",
       "    <tr>\n",
       "      <th>4742</th>\n",
       "      <td>2017</td>\n",
       "      <td>10</td>\n",
       "      <td>18.404321</td>\n",
       "      <td>0.455302</td>\n",
       "      <td>5.783106</td>\n",
       "      <td>5.1</td>\n",
       "      <td>1</td>\n",
       "      <td>8.404321</td>\n",
       "      <td>0.0</td>\n",
       "      <td>0.001364</td>\n",
       "      <td>88.013045</td>\n",
       "    </tr>\n",
       "    <tr>\n",
       "      <th>4753</th>\n",
       "      <td>2017</td>\n",
       "      <td>10</td>\n",
       "      <td>18.607446</td>\n",
       "      <td>0.465922</td>\n",
       "      <td>5.700005</td>\n",
       "      <td>6.1</td>\n",
       "      <td>1</td>\n",
       "      <td>8.607446</td>\n",
       "      <td>0.0</td>\n",
       "      <td>0.001632</td>\n",
       "      <td>105.270504</td>\n",
       "    </tr>\n",
       "    <tr>\n",
       "      <th>4762</th>\n",
       "      <td>2017</td>\n",
       "      <td>10</td>\n",
       "      <td>18.607446</td>\n",
       "      <td>0.465922</td>\n",
       "      <td>5.700005</td>\n",
       "      <td>5.8</td>\n",
       "      <td>1</td>\n",
       "      <td>8.607446</td>\n",
       "      <td>0.0</td>\n",
       "      <td>0.001552</td>\n",
       "      <td>100.093266</td>\n",
       "    </tr>\n",
       "  </tbody>\n",
       "</table>\n",
       "<p>68 rows × 11 columns</p>\n",
       "</div>"
      ],
      "text/plain": [
       "      year  month  temperature        RH  wind_speed   frp  day_night  \\\n",
       "157   2015      6    23.997797  0.345502    1.578224   6.3          1   \n",
       "553   2015      8    29.474725  0.294372    4.252460   9.0          1   \n",
       "698   2015      9    30.646082  0.270595    1.678217  11.8          1   \n",
       "702   2015      9    30.646082  0.270595    1.678217   7.2          1   \n",
       "706   2015      9    30.646082  0.270595    1.678217   7.8          1   \n",
       "...    ...    ...          ...       ...         ...   ...        ...   \n",
       "4544  2017     10    17.032068  0.407724    5.089718   6.1          1   \n",
       "4605  2017     10    18.311487  0.311643    8.693437   5.0          1   \n",
       "4742  2017     10    18.404321  0.455302    5.783106   5.1          1   \n",
       "4753  2017     10    18.607446  0.465922    5.700005   6.1          1   \n",
       "4762  2017     10    18.607446  0.465922    5.700005   5.8          1   \n",
       "\n",
       "      daily_cdd  daily_hdd  perc_frp  burned_area  \n",
       "157   13.997797        0.0  0.001503   243.640438  \n",
       "553   19.474725        0.0  0.001553   220.404990  \n",
       "698   20.646082        0.0  0.000589   148.361345  \n",
       "702   20.646082        0.0  0.000360    90.525567  \n",
       "706   20.646082        0.0  0.000390    98.069364  \n",
       "...         ...        ...       ...          ...  \n",
       "4544   7.032068        0.0  0.001632   105.270504  \n",
       "4605   8.311487        0.0  0.001338    86.287299  \n",
       "4742   8.404321        0.0  0.001364    88.013045  \n",
       "4753   8.607446        0.0  0.001632   105.270504  \n",
       "4762   8.607446        0.0  0.001552   100.093266  \n",
       "\n",
       "[68 rows x 11 columns]"
      ]
     },
     "execution_count": 25,
     "metadata": {},
     "output_type": "execute_result"
    }
   ],
   "source": [
    "df[df.duplicated()]"
   ]
  },
  {
   "cell_type": "markdown",
   "metadata": {},
   "source": [
    "### Check data types"
   ]
  },
  {
   "cell_type": "code",
   "execution_count": 26,
   "metadata": {},
   "outputs": [
    {
     "name": "stdout",
     "output_type": "stream",
     "text": [
      "<class 'pandas.core.frame.DataFrame'>\n",
      "RangeIndex: 5279 entries, 0 to 5278\n",
      "Data columns (total 11 columns):\n",
      " #   Column       Non-Null Count  Dtype  \n",
      "---  ------       --------------  -----  \n",
      " 0   year         5279 non-null   int64  \n",
      " 1   month        5279 non-null   int64  \n",
      " 2   temperature  5279 non-null   float64\n",
      " 3   RH           5279 non-null   float64\n",
      " 4   wind_speed   5279 non-null   float64\n",
      " 5   frp          5279 non-null   float64\n",
      " 6   day_night    5279 non-null   int64  \n",
      " 7   daily_cdd    5279 non-null   float64\n",
      " 8   daily_hdd    5279 non-null   float64\n",
      " 9   perc_frp     5279 non-null   float64\n",
      " 10  burned_area  5279 non-null   float64\n",
      "dtypes: float64(8), int64(3)\n",
      "memory usage: 453.8 KB\n"
     ]
    }
   ],
   "source": [
    "# Check Null and Dtypes\n",
    "df.info()"
   ]
  },
  {
   "cell_type": "markdown",
   "metadata": {},
   "source": [
    "### Checking the number of unique values of each column"
   ]
  },
  {
   "cell_type": "code",
   "execution_count": 27,
   "metadata": {},
   "outputs": [
    {
     "data": {
      "text/plain": [
       "year              4\n",
       "month            12\n",
       "temperature    2390\n",
       "RH             2398\n",
       "wind_speed     2400\n",
       "frp             822\n",
       "day_night         2\n",
       "daily_cdd      2217\n",
       "daily_hdd       175\n",
       "perc_frp       3440\n",
       "burned_area    3355\n",
       "dtype: int64"
      ]
     },
     "execution_count": 27,
     "metadata": {},
     "output_type": "execute_result"
    }
   ],
   "source": [
    "df.nunique()"
   ]
  },
  {
   "cell_type": "markdown",
   "metadata": {},
   "source": [
    "### Check statistic of data set"
   ]
  },
  {
   "cell_type": "code",
   "execution_count": 28,
   "metadata": {},
   "outputs": [
    {
     "data": {
      "text/html": [
       "<div>\n",
       "<style scoped>\n",
       "    .dataframe tbody tr th:only-of-type {\n",
       "        vertical-align: middle;\n",
       "    }\n",
       "\n",
       "    .dataframe tbody tr th {\n",
       "        vertical-align: top;\n",
       "    }\n",
       "\n",
       "    .dataframe thead th {\n",
       "        text-align: right;\n",
       "    }\n",
       "</style>\n",
       "<table border=\"1\" class=\"dataframe\">\n",
       "  <thead>\n",
       "    <tr style=\"text-align: right;\">\n",
       "      <th></th>\n",
       "      <th>year</th>\n",
       "      <th>month</th>\n",
       "      <th>temperature</th>\n",
       "      <th>RH</th>\n",
       "      <th>wind_speed</th>\n",
       "      <th>frp</th>\n",
       "      <th>day_night</th>\n",
       "      <th>daily_cdd</th>\n",
       "      <th>daily_hdd</th>\n",
       "      <th>perc_frp</th>\n",
       "      <th>burned_area</th>\n",
       "    </tr>\n",
       "  </thead>\n",
       "  <tbody>\n",
       "    <tr>\n",
       "      <th>count</th>\n",
       "      <td>5279.000000</td>\n",
       "      <td>5279.000000</td>\n",
       "      <td>5279.000000</td>\n",
       "      <td>5279.000000</td>\n",
       "      <td>5279.000000</td>\n",
       "      <td>5279.000000</td>\n",
       "      <td>5279.000000</td>\n",
       "      <td>5279.000000</td>\n",
       "      <td>5279.000000</td>\n",
       "      <td>5279.000000</td>\n",
       "      <td>5279.000000</td>\n",
       "    </tr>\n",
       "    <tr>\n",
       "      <th>mean</th>\n",
       "      <td>2016.193029</td>\n",
       "      <td>7.592347</td>\n",
       "      <td>23.908194</td>\n",
       "      <td>0.481314</td>\n",
       "      <td>4.405865</td>\n",
       "      <td>23.747679</td>\n",
       "      <td>0.925554</td>\n",
       "      <td>14.065956</td>\n",
       "      <td>0.157762</td>\n",
       "      <td>0.007198</td>\n",
       "      <td>359.552266</td>\n",
       "    </tr>\n",
       "    <tr>\n",
       "      <th>std</th>\n",
       "      <td>1.016937</td>\n",
       "      <td>2.215499</td>\n",
       "      <td>7.016968</td>\n",
       "      <td>0.181731</td>\n",
       "      <td>3.099402</td>\n",
       "      <td>44.456236</td>\n",
       "      <td>0.262520</td>\n",
       "      <td>6.626533</td>\n",
       "      <td>0.942296</td>\n",
       "      <td>0.016916</td>\n",
       "      <td>707.980541</td>\n",
       "    </tr>\n",
       "    <tr>\n",
       "      <th>min</th>\n",
       "      <td>2015.000000</td>\n",
       "      <td>1.000000</td>\n",
       "      <td>-3.185645</td>\n",
       "      <td>0.082753</td>\n",
       "      <td>0.022597</td>\n",
       "      <td>0.000000</td>\n",
       "      <td>0.000000</td>\n",
       "      <td>0.000000</td>\n",
       "      <td>0.000000</td>\n",
       "      <td>0.000000</td>\n",
       "      <td>0.000000</td>\n",
       "    </tr>\n",
       "    <tr>\n",
       "      <th>25%</th>\n",
       "      <td>2015.000000</td>\n",
       "      <td>6.000000</td>\n",
       "      <td>19.610651</td>\n",
       "      <td>0.337268</td>\n",
       "      <td>2.283655</td>\n",
       "      <td>8.200000</td>\n",
       "      <td>1.000000</td>\n",
       "      <td>9.610651</td>\n",
       "      <td>0.000000</td>\n",
       "      <td>0.001075</td>\n",
       "      <td>66.270049</td>\n",
       "    </tr>\n",
       "    <tr>\n",
       "      <th>50%</th>\n",
       "      <td>2016.000000</td>\n",
       "      <td>8.000000</td>\n",
       "      <td>25.426691</td>\n",
       "      <td>0.461668</td>\n",
       "      <td>3.641334</td>\n",
       "      <td>12.700000</td>\n",
       "      <td>1.000000</td>\n",
       "      <td>15.426691</td>\n",
       "      <td>0.000000</td>\n",
       "      <td>0.002378</td>\n",
       "      <td>150.996666</td>\n",
       "    </tr>\n",
       "    <tr>\n",
       "      <th>75%</th>\n",
       "      <td>2017.000000</td>\n",
       "      <td>9.000000</td>\n",
       "      <td>29.154352</td>\n",
       "      <td>0.618438</td>\n",
       "      <td>5.749217</td>\n",
       "      <td>24.100000</td>\n",
       "      <td>1.000000</td>\n",
       "      <td>19.154352</td>\n",
       "      <td>0.000000</td>\n",
       "      <td>0.006089</td>\n",
       "      <td>376.013155</td>\n",
       "    </tr>\n",
       "    <tr>\n",
       "      <th>max</th>\n",
       "      <td>2018.000000</td>\n",
       "      <td>12.000000</td>\n",
       "      <td>40.190088</td>\n",
       "      <td>0.975530</td>\n",
       "      <td>22.422637</td>\n",
       "      <td>1147.600000</td>\n",
       "      <td>1.000000</td>\n",
       "      <td>30.190088</td>\n",
       "      <td>13.185645</td>\n",
       "      <td>0.486172</td>\n",
       "      <td>13113.875948</td>\n",
       "    </tr>\n",
       "  </tbody>\n",
       "</table>\n",
       "</div>"
      ],
      "text/plain": [
       "              year        month  temperature           RH   wind_speed  \\\n",
       "count  5279.000000  5279.000000  5279.000000  5279.000000  5279.000000   \n",
       "mean   2016.193029     7.592347    23.908194     0.481314     4.405865   \n",
       "std       1.016937     2.215499     7.016968     0.181731     3.099402   \n",
       "min    2015.000000     1.000000    -3.185645     0.082753     0.022597   \n",
       "25%    2015.000000     6.000000    19.610651     0.337268     2.283655   \n",
       "50%    2016.000000     8.000000    25.426691     0.461668     3.641334   \n",
       "75%    2017.000000     9.000000    29.154352     0.618438     5.749217   \n",
       "max    2018.000000    12.000000    40.190088     0.975530    22.422637   \n",
       "\n",
       "               frp    day_night    daily_cdd    daily_hdd     perc_frp  \\\n",
       "count  5279.000000  5279.000000  5279.000000  5279.000000  5279.000000   \n",
       "mean     23.747679     0.925554    14.065956     0.157762     0.007198   \n",
       "std      44.456236     0.262520     6.626533     0.942296     0.016916   \n",
       "min       0.000000     0.000000     0.000000     0.000000     0.000000   \n",
       "25%       8.200000     1.000000     9.610651     0.000000     0.001075   \n",
       "50%      12.700000     1.000000    15.426691     0.000000     0.002378   \n",
       "75%      24.100000     1.000000    19.154352     0.000000     0.006089   \n",
       "max    1147.600000     1.000000    30.190088    13.185645     0.486172   \n",
       "\n",
       "        burned_area  \n",
       "count   5279.000000  \n",
       "mean     359.552266  \n",
       "std      707.980541  \n",
       "min        0.000000  \n",
       "25%       66.270049  \n",
       "50%      150.996666  \n",
       "75%      376.013155  \n",
       "max    13113.875948  "
      ]
     },
     "execution_count": 28,
     "metadata": {},
     "output_type": "execute_result"
    }
   ],
   "source": [
    "df.describe()"
   ]
  },
  {
   "cell_type": "code",
   "execution_count": 29,
   "metadata": {},
   "outputs": [
    {
     "data": {
      "text/html": [
       "<div>\n",
       "<style scoped>\n",
       "    .dataframe tbody tr th:only-of-type {\n",
       "        vertical-align: middle;\n",
       "    }\n",
       "\n",
       "    .dataframe tbody tr th {\n",
       "        vertical-align: top;\n",
       "    }\n",
       "\n",
       "    .dataframe thead th {\n",
       "        text-align: right;\n",
       "    }\n",
       "</style>\n",
       "<table border=\"1\" class=\"dataframe\">\n",
       "  <thead>\n",
       "    <tr style=\"text-align: right;\">\n",
       "      <th></th>\n",
       "      <th>year</th>\n",
       "      <th>month</th>\n",
       "      <th>temperature</th>\n",
       "      <th>RH</th>\n",
       "      <th>wind_speed</th>\n",
       "      <th>frp</th>\n",
       "      <th>day_night</th>\n",
       "      <th>daily_cdd</th>\n",
       "      <th>daily_hdd</th>\n",
       "      <th>perc_frp</th>\n",
       "      <th>burned_area</th>\n",
       "    </tr>\n",
       "  </thead>\n",
       "  <tbody>\n",
       "    <tr>\n",
       "      <th>0</th>\n",
       "      <td>2015</td>\n",
       "      <td>1</td>\n",
       "      <td>9.284265</td>\n",
       "      <td>0.689222</td>\n",
       "      <td>6.951015</td>\n",
       "      <td>6.4</td>\n",
       "      <td>1</td>\n",
       "      <td>0.000000</td>\n",
       "      <td>0.715735</td>\n",
       "      <td>0.055315</td>\n",
       "      <td>84.305037</td>\n",
       "    </tr>\n",
       "    <tr>\n",
       "      <th>1</th>\n",
       "      <td>2015</td>\n",
       "      <td>1</td>\n",
       "      <td>10.481195</td>\n",
       "      <td>0.716552</td>\n",
       "      <td>15.878100</td>\n",
       "      <td>9.9</td>\n",
       "      <td>1</td>\n",
       "      <td>0.481195</td>\n",
       "      <td>0.000000</td>\n",
       "      <td>0.085566</td>\n",
       "      <td>130.409354</td>\n",
       "    </tr>\n",
       "    <tr>\n",
       "      <th>2</th>\n",
       "      <td>2015</td>\n",
       "      <td>1</td>\n",
       "      <td>0.069574</td>\n",
       "      <td>0.751346</td>\n",
       "      <td>7.876296</td>\n",
       "      <td>19.8</td>\n",
       "      <td>1</td>\n",
       "      <td>0.000000</td>\n",
       "      <td>9.930426</td>\n",
       "      <td>0.171132</td>\n",
       "      <td>260.818709</td>\n",
       "    </tr>\n",
       "    <tr>\n",
       "      <th>3</th>\n",
       "      <td>2015</td>\n",
       "      <td>1</td>\n",
       "      <td>1.479761</td>\n",
       "      <td>0.769021</td>\n",
       "      <td>10.005970</td>\n",
       "      <td>7.8</td>\n",
       "      <td>1</td>\n",
       "      <td>0.000000</td>\n",
       "      <td>8.520239</td>\n",
       "      <td>0.067416</td>\n",
       "      <td>102.746764</td>\n",
       "    </tr>\n",
       "    <tr>\n",
       "      <th>4</th>\n",
       "      <td>2015</td>\n",
       "      <td>1</td>\n",
       "      <td>6.572412</td>\n",
       "      <td>0.608134</td>\n",
       "      <td>2.239136</td>\n",
       "      <td>8.3</td>\n",
       "      <td>1</td>\n",
       "      <td>0.000000</td>\n",
       "      <td>3.427588</td>\n",
       "      <td>0.071737</td>\n",
       "      <td>109.333095</td>\n",
       "    </tr>\n",
       "  </tbody>\n",
       "</table>\n",
       "</div>"
      ],
      "text/plain": [
       "   year  month  temperature        RH  wind_speed   frp  day_night  daily_cdd  \\\n",
       "0  2015      1     9.284265  0.689222    6.951015   6.4          1   0.000000   \n",
       "1  2015      1    10.481195  0.716552   15.878100   9.9          1   0.481195   \n",
       "2  2015      1     0.069574  0.751346    7.876296  19.8          1   0.000000   \n",
       "3  2015      1     1.479761  0.769021   10.005970   7.8          1   0.000000   \n",
       "4  2015      1     6.572412  0.608134    2.239136   8.3          1   0.000000   \n",
       "\n",
       "   daily_hdd  perc_frp  burned_area  \n",
       "0   0.715735  0.055315    84.305037  \n",
       "1   0.000000  0.085566   130.409354  \n",
       "2   9.930426  0.171132   260.818709  \n",
       "3   8.520239  0.067416   102.746764  \n",
       "4   3.427588  0.071737   109.333095  "
      ]
     },
     "execution_count": 29,
     "metadata": {},
     "output_type": "execute_result"
    }
   ],
   "source": [
    "df.head()"
   ]
  },
  {
   "cell_type": "code",
   "execution_count": 53,
   "metadata": {},
   "outputs": [
    {
     "name": "stdout",
     "output_type": "stream",
     "text": [
      "We have 12 numerical features : ['year', 'month', 'temperature', 'RH', 'wind_speed', 'frp', 'day_night', 'daily_cdd', 'daily_hdd', 'perc_frp', 'burned_area', 'isFired']\n",
      "\n",
      "We have 0 categorical features : []\n"
     ]
    }
   ],
   "source": [
    "numeric_features = [feature for feature in df.columns if df[feature].dtype != 'O']\n",
    "categorical_features = [feature for feature in df.columns if df[feature].dtype == 'O']\n",
    "\n",
    "print(f\"We have {len(numeric_features)} numerical features : {numeric_features}\")\n",
    "print(f\"\\nWe have {len(categorical_features)} categorical features : {categorical_features}\")"
   ]
  },
  {
   "cell_type": "code",
   "execution_count": 32,
   "metadata": {},
   "outputs": [],
   "source": [
    "df[\"isFired\"] = (df['burned_area'] > 15)"
   ]
  },
  {
   "cell_type": "code",
   "execution_count": 33,
   "metadata": {},
   "outputs": [
    {
     "name": "stdout",
     "output_type": "stream",
     "text": [
      "There are 4865 burned area\n"
     ]
    }
   ],
   "source": [
    "print(f\"There are {df[df['isFired'] == True]['isFired'].count()} burned area\")"
   ]
  },
  {
   "cell_type": "code",
   "execution_count": 34,
   "metadata": {},
   "outputs": [
    {
     "name": "stdout",
     "output_type": "stream",
     "text": [
      "There are 414 non-burned area\n"
     ]
    }
   ],
   "source": [
    "print(f\"There are {df[df['isFired'] == False]['isFired'].count()} non-burned area\")"
   ]
  },
  {
   "cell_type": "code",
   "execution_count": 35,
   "metadata": {},
   "outputs": [
    {
     "data": {
      "text/html": [
       "<div>\n",
       "<style scoped>\n",
       "    .dataframe tbody tr th:only-of-type {\n",
       "        vertical-align: middle;\n",
       "    }\n",
       "\n",
       "    .dataframe tbody tr th {\n",
       "        vertical-align: top;\n",
       "    }\n",
       "\n",
       "    .dataframe thead th {\n",
       "        text-align: right;\n",
       "    }\n",
       "</style>\n",
       "<table border=\"1\" class=\"dataframe\">\n",
       "  <thead>\n",
       "    <tr style=\"text-align: right;\">\n",
       "      <th></th>\n",
       "      <th>year</th>\n",
       "      <th>month</th>\n",
       "      <th>temperature</th>\n",
       "      <th>RH</th>\n",
       "      <th>wind_speed</th>\n",
       "      <th>frp</th>\n",
       "      <th>day_night</th>\n",
       "      <th>daily_cdd</th>\n",
       "      <th>daily_hdd</th>\n",
       "      <th>perc_frp</th>\n",
       "      <th>burned_area</th>\n",
       "      <th>isFired</th>\n",
       "    </tr>\n",
       "  </thead>\n",
       "  <tbody>\n",
       "    <tr>\n",
       "      <th>0</th>\n",
       "      <td>2015</td>\n",
       "      <td>1</td>\n",
       "      <td>9.284265</td>\n",
       "      <td>0.689222</td>\n",
       "      <td>6.951015</td>\n",
       "      <td>6.4</td>\n",
       "      <td>1</td>\n",
       "      <td>0.000000</td>\n",
       "      <td>0.715735</td>\n",
       "      <td>0.055315</td>\n",
       "      <td>84.305037</td>\n",
       "      <td>True</td>\n",
       "    </tr>\n",
       "    <tr>\n",
       "      <th>1</th>\n",
       "      <td>2015</td>\n",
       "      <td>1</td>\n",
       "      <td>10.481195</td>\n",
       "      <td>0.716552</td>\n",
       "      <td>15.878100</td>\n",
       "      <td>9.9</td>\n",
       "      <td>1</td>\n",
       "      <td>0.481195</td>\n",
       "      <td>0.000000</td>\n",
       "      <td>0.085566</td>\n",
       "      <td>130.409354</td>\n",
       "      <td>True</td>\n",
       "    </tr>\n",
       "    <tr>\n",
       "      <th>2</th>\n",
       "      <td>2015</td>\n",
       "      <td>1</td>\n",
       "      <td>0.069574</td>\n",
       "      <td>0.751346</td>\n",
       "      <td>7.876296</td>\n",
       "      <td>19.8</td>\n",
       "      <td>1</td>\n",
       "      <td>0.000000</td>\n",
       "      <td>9.930426</td>\n",
       "      <td>0.171132</td>\n",
       "      <td>260.818709</td>\n",
       "      <td>True</td>\n",
       "    </tr>\n",
       "    <tr>\n",
       "      <th>3</th>\n",
       "      <td>2015</td>\n",
       "      <td>1</td>\n",
       "      <td>1.479761</td>\n",
       "      <td>0.769021</td>\n",
       "      <td>10.005970</td>\n",
       "      <td>7.8</td>\n",
       "      <td>1</td>\n",
       "      <td>0.000000</td>\n",
       "      <td>8.520239</td>\n",
       "      <td>0.067416</td>\n",
       "      <td>102.746764</td>\n",
       "      <td>True</td>\n",
       "    </tr>\n",
       "    <tr>\n",
       "      <th>4</th>\n",
       "      <td>2015</td>\n",
       "      <td>1</td>\n",
       "      <td>6.572412</td>\n",
       "      <td>0.608134</td>\n",
       "      <td>2.239136</td>\n",
       "      <td>8.3</td>\n",
       "      <td>1</td>\n",
       "      <td>0.000000</td>\n",
       "      <td>3.427588</td>\n",
       "      <td>0.071737</td>\n",
       "      <td>109.333095</td>\n",
       "      <td>True</td>\n",
       "    </tr>\n",
       "  </tbody>\n",
       "</table>\n",
       "</div>"
      ],
      "text/plain": [
       "   year  month  temperature        RH  wind_speed   frp  day_night  daily_cdd  \\\n",
       "0  2015      1     9.284265  0.689222    6.951015   6.4          1   0.000000   \n",
       "1  2015      1    10.481195  0.716552   15.878100   9.9          1   0.481195   \n",
       "2  2015      1     0.069574  0.751346    7.876296  19.8          1   0.000000   \n",
       "3  2015      1     1.479761  0.769021   10.005970   7.8          1   0.000000   \n",
       "4  2015      1     6.572412  0.608134    2.239136   8.3          1   0.000000   \n",
       "\n",
       "   daily_hdd  perc_frp  burned_area  isFired  \n",
       "0   0.715735  0.055315    84.305037     True  \n",
       "1   0.000000  0.085566   130.409354     True  \n",
       "2   9.930426  0.171132   260.818709     True  \n",
       "3   8.520239  0.067416   102.746764     True  \n",
       "4   3.427588  0.071737   109.333095     True  "
      ]
     },
     "execution_count": 35,
     "metadata": {},
     "output_type": "execute_result"
    }
   ],
   "source": [
    "df.head()"
   ]
  },
  {
   "cell_type": "markdown",
   "metadata": {},
   "source": [
    "### Insight\n",
    "* August and September are the peaks of fire in forest. After these months, July and December comes."
   ]
  },
  {
   "cell_type": "code",
   "execution_count": 37,
   "metadata": {},
   "outputs": [
    {
     "data": {
      "image/png": "[encoded data removed]",
      "text/plain": [
       "<Figure size 500x300 with 1 Axes>"
      ]
     },
     "metadata": {},
     "output_type": "display_data"
    }
   ],
   "source": [
    "fig, axs = plt.subplots(1, figsize=(5, 3))\n",
    "sns.histplot(data=df,x='month',kde=True,hue='isFired')\n",
    "plt.show()"
   ]
  },
  {
   "cell_type": "markdown",
   "metadata": {},
   "source": [
    "### Insight\n",
    "There is a correlation between temperature and fire."
   ]
  },
  {
   "cell_type": "code",
   "execution_count": 39,
   "metadata": {},
   "outputs": [
    {
     "data": {
      "image/png": "[encoded data removed]",
      "text/plain": [
       "<Figure size 900x700 with 1 Axes>"
      ]
     },
     "metadata": {},
     "output_type": "display_data"
    }
   ],
   "source": [
    "fig, axs = plt.subplots(1, figsize=(9, 7))\n",
    "sns.histplot(data=df,x='temperature',kde=True,hue='isFired')\n",
    "plt.show()"
   ]
  },
  {
   "cell_type": "markdown",
   "metadata": {},
   "source": [
    "### Insight\n",
    "* Can say that Humidity affect fire in forest. It seems that %40 +-%10 Humidity is a proper medium to fire."
   ]
  },
  {
   "cell_type": "code",
   "execution_count": 40,
   "metadata": {},
   "outputs": [
    {
     "data": {
      "image/png": "[encoded data removed]",
      "text/plain": [
       "<Figure size 900x700 with 1 Axes>"
      ]
     },
     "metadata": {},
     "output_type": "display_data"
    }
   ],
   "source": [
    "fig, axs = plt.subplots(1, figsize=(9, 7))\n",
    "sns.histplot(data=df,x='RH',bins = 30,kde=True,hue='isFired')\n",
    "plt.show()"
   ]
  },
  {
   "cell_type": "markdown",
   "metadata": {},
   "source": [
    "## Feature Selection"
   ]
  },
  {
   "cell_type": "code",
   "execution_count": 93,
   "metadata": {},
   "outputs": [],
   "source": [
    "from sklearn.decomposition import PCA\n",
    "pca = PCA(n_components=2, whiten=True)"
   ]
  },
  {
   "cell_type": "code",
   "execution_count": 94,
   "metadata": {},
   "outputs": [
    {
     "data": {
      "text/plain": [
       "(      year  month  temperature        RH  wind_speed   frp  day_night  \\\n",
       " 0     2015      1     9.284265  0.689222    6.951015   6.4          1   \n",
       " 1     2015      1    10.481195  0.716552   15.878100   9.9          1   \n",
       " 2     2015      1     0.069574  0.751346    7.876296  19.8          1   \n",
       " 3     2015      1     1.479761  0.769021   10.005970   7.8          1   \n",
       " 4     2015      1     6.572412  0.608134    2.239136   8.3          1   \n",
       " ...    ...    ...          ...       ...         ...   ...        ...   \n",
       " 5274  2018      6    21.583490  0.557554    4.279598   8.7          1   \n",
       " 5275  2018      6    21.583490  0.557554    4.279598   9.6          1   \n",
       " 5276  2018      6    21.583490  0.557554    4.279598   7.7          1   \n",
       " 5277  2018      6    22.098138  0.870264    3.978109   8.9          1   \n",
       " 5278  2018      6    24.552820  0.570864    8.594997  18.3          1   \n",
       " \n",
       "       daily_cdd  daily_hdd  perc_frp  burned_area  \n",
       " 0      0.000000   0.715735  0.055315    84.305037  \n",
       " 1      0.481195   0.000000  0.085566   130.409354  \n",
       " 2      0.000000   9.930426  0.171132   260.818709  \n",
       " 3      0.000000   8.520239  0.067416   102.746764  \n",
       " 4      0.000000   3.427588  0.071737   109.333095  \n",
       " ...         ...        ...       ...          ...  \n",
       " 5274  11.583490   0.000000  0.004378   362.979517  \n",
       " 5275  11.583490   0.000000  0.004831   400.529122  \n",
       " 5276  11.583490   0.000000  0.003875   321.257734  \n",
       " 5277  12.098138   0.000000  0.004479   371.323874  \n",
       " 5278  14.552820   0.000000  0.009210   763.508640  \n",
       " \n",
       " [5279 rows x 11 columns],\n",
       " 0       True\n",
       " 1       True\n",
       " 2       True\n",
       " 3       True\n",
       " 4       True\n",
       "         ... \n",
       " 5274    True\n",
       " 5275    True\n",
       " 5276    True\n",
       " 5277    True\n",
       " 5278    True\n",
       " Name: isFired, Length: 5279, dtype: bool)"
      ]
     },
     "execution_count": 94,
     "metadata": {},
     "output_type": "execute_result"
    }
   ],
   "source": [
    "x = df.drop(columns=['isFired'])\n",
    "y = df['isFired']\n",
    "x, y"
   ]
  },
  {
   "cell_type": "code",
   "execution_count": 95,
   "metadata": {},
   "outputs": [
    {
     "data": {
      "text/plain": [
       "['year',\n",
       " 'month',\n",
       " 'temperature',\n",
       " 'RH',\n",
       " 'wind_speed',\n",
       " 'frp',\n",
       " 'day_night',\n",
       " 'daily_cdd',\n",
       " 'daily_hdd',\n",
       " 'perc_frp']"
      ]
     },
     "execution_count": 95,
     "metadata": {},
     "output_type": "execute_result"
    }
   ],
   "source": [
    "if 'isFired' in numeric_features or \"burned_area\" in numeric_features:\n",
    "    numeric_features.remove('isFired')\n",
    "    numeric_features.remove(\"burned_area\")\n",
    "numeric_features"
   ]
  },
  {
   "cell_type": "code",
   "execution_count": 96,
   "metadata": {},
   "outputs": [
    {
     "data": {
      "text/plain": [
       "[]"
      ]
     },
     "execution_count": 96,
     "metadata": {},
     "output_type": "execute_result"
    }
   ],
   "source": [
    "categorical_features"
   ]
  },
  {
   "cell_type": "code",
   "execution_count": 97,
   "metadata": {},
   "outputs": [],
   "source": [
    "## Data Preperation\n",
    "from sklearn.compose import ColumnTransformer\n",
    "from sklearn.impute import SimpleImputer\n",
    "from sklearn.pipeline import Pipeline\n",
    "from sklearn.preprocessing import OneHotEncoder, StandardScaler\n",
    "\n",
    "num_pipeline = Pipeline(\n",
    "    steps = [\n",
    "        (\"imputer\", SimpleImputer(strategy=\"median\")),\n",
    "        (\"scaler\", StandardScaler(with_mean=False))\n",
    "    ]\n",
    ")\n",
    "\n",
    "cat_pipeline = Pipeline(\n",
    "    steps=[\n",
    "        (\"imputer\", SimpleImputer(strategy=\"most_frequent\")),\n",
    "        (\"one_hot_encoder\", OneHotEncoder()),\n",
    "        #(\"scaler\", StandardScaler(with_mean=False))\n",
    "    ]\n",
    ")\n",
    "\n",
    "preprocessor = ColumnTransformer(\n",
    "    [\n",
    "        (\"num_pipeline\", num_pipeline, numeric_features),\n",
    "        #(\"cat_pipeline\", cat_pipeline, categorical_features)\n",
    "    ]\n",
    ")"
   ]
  },
  {
   "cell_type": "code",
   "execution_count": 108,
   "metadata": {},
   "outputs": [],
   "source": [
    "if \"burned_area\" in x.columns:\n",
    "    x = x.drop(columns=[\"burned_area\"])"
   ]
  },
  {
   "cell_type": "code",
   "execution_count": 109,
   "metadata": {},
   "outputs": [
    {
     "data": {
      "text/plain": [
       "\"from sklearn.preprocessing import OneHotEncoder\\n\\n# Assuming 'x' is your DataFrame\\n# Assuming 'month' is the column you want to one-hot encode\\n\\n# Reshape the 'month' column to a 2D array\\nx_month_reshaped = x['month'].values.reshape(-1, 1)\\n\\n# Apply OneHotEncoder\\nencoder = OneHotEncoder()\\nencoded_month = encoder.fit_transform(x_month_reshaped)\\n\\n# Convert the result to a DataFrame (optional)\\nencoded_month_df = pd.DataFrame(encoded_month.toarray(), columns=encoder.get_feature_names_out(['month']))\\n\\n# Replace the original 'month' column in your DataFrame with the encoded values\\nx = pd.concat([x.drop('month', axis=1), encoded_month_df], axis=1)\""
      ]
     },
     "execution_count": 109,
     "metadata": {},
     "output_type": "execute_result"
    }
   ],
   "source": [
    "'''from sklearn.preprocessing import OneHotEncoder\n",
    "\n",
    "# Assuming 'x' is your DataFrame\n",
    "# Assuming 'month' is the column you want to one-hot encode\n",
    "\n",
    "# Reshape the 'month' column to a 2D array\n",
    "x_month_reshaped = x['month'].values.reshape(-1, 1)\n",
    "\n",
    "# Apply OneHotEncoder\n",
    "encoder = OneHotEncoder()\n",
    "encoded_month = encoder.fit_transform(x_month_reshaped)\n",
    "\n",
    "# Convert the result to a DataFrame (optional)\n",
    "encoded_month_df = pd.DataFrame(encoded_month.toarray(), columns=encoder.get_feature_names_out(['month']))\n",
    "\n",
    "# Replace the original 'month' column in your DataFrame with the encoded values\n",
    "x = pd.concat([x.drop('month', axis=1), encoded_month_df], axis=1)'''\n"
   ]
  },
  {
   "cell_type": "code",
   "execution_count": 110,
   "metadata": {},
   "outputs": [
    {
     "data": {
      "text/plain": [
       "(      year  month  temperature        RH  wind_speed   frp  day_night  \\\n",
       " 0     2015      1     9.284265  0.689222    6.951015   6.4          1   \n",
       " 1     2015      1    10.481195  0.716552   15.878100   9.9          1   \n",
       " 2     2015      1     0.069574  0.751346    7.876296  19.8          1   \n",
       " 3     2015      1     1.479761  0.769021   10.005970   7.8          1   \n",
       " 4     2015      1     6.572412  0.608134    2.239136   8.3          1   \n",
       " ...    ...    ...          ...       ...         ...   ...        ...   \n",
       " 5274  2018      6    21.583490  0.557554    4.279598   8.7          1   \n",
       " 5275  2018      6    21.583490  0.557554    4.279598   9.6          1   \n",
       " 5276  2018      6    21.583490  0.557554    4.279598   7.7          1   \n",
       " 5277  2018      6    22.098138  0.870264    3.978109   8.9          1   \n",
       " 5278  2018      6    24.552820  0.570864    8.594997  18.3          1   \n",
       " \n",
       "       daily_cdd  daily_hdd  perc_frp  \n",
       " 0      0.000000   0.715735  0.055315  \n",
       " 1      0.481195   0.000000  0.085566  \n",
       " 2      0.000000   9.930426  0.171132  \n",
       " 3      0.000000   8.520239  0.067416  \n",
       " 4      0.000000   3.427588  0.071737  \n",
       " ...         ...        ...       ...  \n",
       " 5274  11.583490   0.000000  0.004378  \n",
       " 5275  11.583490   0.000000  0.004831  \n",
       " 5276  11.583490   0.000000  0.003875  \n",
       " 5277  12.098138   0.000000  0.004479  \n",
       " 5278  14.552820   0.000000  0.009210  \n",
       " \n",
       " [5279 rows x 10 columns],\n",
       " 0       True\n",
       " 1       True\n",
       " 2       True\n",
       " 3       True\n",
       " 4       True\n",
       "         ... \n",
       " 5274    True\n",
       " 5275    True\n",
       " 5276    True\n",
       " 5277    True\n",
       " 5278    True\n",
       " Name: isFired, Length: 5279, dtype: bool)"
      ]
     },
     "execution_count": 110,
     "metadata": {},
     "output_type": "execute_result"
    }
   ],
   "source": [
    "preprocessor.fit_transform(x)\n",
    "x, y"
   ]
  },
  {
   "cell_type": "code",
   "execution_count": 111,
   "metadata": {},
   "outputs": [
    {
     "data": {
      "text/html": [
       "<style>#sk-container-id-3 {color: black;}#sk-container-id-3 pre{padding: 0;}#sk-container-id-3 div.sk-toggleable {background-color: white;}#sk-container-id-3 label.sk-toggleable__label {cursor: pointer;display: block;width: 100%;margin-bottom: 0;padding: 0.3em;box-sizing: border-box;text-align: center;}#sk-container-id-3 label.sk-toggleable__label-arrow:before {content: \"▸\";float: left;margin-right: 0.25em;color: #696969;}#sk-container-id-3 label.sk-toggleable__label-arrow:hover:before {color: black;}#sk-container-id-3 div.sk-estimator:hover label.sk-toggleable__label-arrow:before {color: black;}#sk-container-id-3 div.sk-toggleable__content {max-height: 0;max-width: 0;overflow: hidden;text-align: left;background-color: #f0f8ff;}#sk-container-id-3 div.sk-toggleable__content pre {margin: 0.2em;color: black;border-radius: 0.25em;background-color: #f0f8ff;}#sk-container-id-3 input.sk-toggleable__control:checked~div.sk-toggleable__content {max-height: 200px;max-width: 100%;overflow: auto;}#sk-container-id-3 input.sk-toggleable__control:checked~label.sk-toggleable__label-arrow:before {content: \"▾\";}#sk-container-id-3 div.sk-estimator input.sk-toggleable__control:checked~label.sk-toggleable__label {background-color: #d4ebff;}#sk-container-id-3 div.sk-label input.sk-toggleable__control:checked~label.sk-toggleable__label {background-color: #d4ebff;}#sk-container-id-3 input.sk-hidden--visually {border: 0;clip: rect(1px 1px 1px 1px);clip: rect(1px, 1px, 1px, 1px);height: 1px;margin: -1px;overflow: hidden;padding: 0;position: absolute;width: 1px;}#sk-container-id-3 div.sk-estimator {font-family: monospace;background-color: #f0f8ff;border: 1px dotted black;border-radius: 0.25em;box-sizing: border-box;margin-bottom: 0.5em;}#sk-container-id-3 div.sk-estimator:hover {background-color: #d4ebff;}#sk-container-id-3 div.sk-parallel-item::after {content: \"\";width: 100%;border-bottom: 1px solid gray;flex-grow: 1;}#sk-container-id-3 div.sk-label:hover label.sk-toggleable__label {background-color: #d4ebff;}#sk-container-id-3 div.sk-serial::before {content: \"\";position: absolute;border-left: 1px solid gray;box-sizing: border-box;top: 0;bottom: 0;left: 50%;z-index: 0;}#sk-container-id-3 div.sk-serial {display: flex;flex-direction: column;align-items: center;background-color: white;padding-right: 0.2em;padding-left: 0.2em;position: relative;}#sk-container-id-3 div.sk-item {position: relative;z-index: 1;}#sk-container-id-3 div.sk-parallel {display: flex;align-items: stretch;justify-content: center;background-color: white;position: relative;}#sk-container-id-3 div.sk-item::before, #sk-container-id-3 div.sk-parallel-item::before {content: \"\";position: absolute;border-left: 1px solid gray;box-sizing: border-box;top: 0;bottom: 0;left: 50%;z-index: -1;}#sk-container-id-3 div.sk-parallel-item {display: flex;flex-direction: column;z-index: 1;position: relative;background-color: white;}#sk-container-id-3 div.sk-parallel-item:first-child::after {align-self: flex-end;width: 50%;}#sk-container-id-3 div.sk-parallel-item:last-child::after {align-self: flex-start;width: 50%;}#sk-container-id-3 div.sk-parallel-item:only-child::after {width: 0;}#sk-container-id-3 div.sk-dashed-wrapped {border: 1px dashed gray;margin: 0 0.4em 0.5em 0.4em;box-sizing: border-box;padding-bottom: 0.4em;background-color: white;}#sk-container-id-3 div.sk-label label {font-family: monospace;font-weight: bold;display: inline-block;line-height: 1.2em;}#sk-container-id-3 div.sk-label-container {text-align: center;}#sk-container-id-3 div.sk-container {/* jupyter's `normalize.less` sets `[hidden] { display: none; }` but bootstrap.min.css set `[hidden] { display: none !important; }` so we also need the `!important` here to be able to override the default hidden behavior on the sphinx rendered scikit-learn.org. See: https://github.com/scikit-learn/scikit-learn/issues/21755 */display: inline-block !important;position: relative;}#sk-container-id-3 div.sk-text-repr-fallback {display: none;}</style><div id=\"sk-container-id-3\" class=\"sk-top-container\"><div class=\"sk-text-repr-fallback\"><pre>PCA(n_components=2, whiten=True)</pre><b>In a Jupyter environment, please rerun this cell to show the HTML representation or trust the notebook. <br />On GitHub, the HTML representation is unable to render, please try loading this page with nbviewer.org.</b></div><div class=\"sk-container\" hidden><div class=\"sk-item\"><div class=\"sk-estimator sk-toggleable\"><input class=\"sk-toggleable__control sk-hidden--visually\" id=\"sk-estimator-id-3\" type=\"checkbox\" checked><label for=\"sk-estimator-id-3\" class=\"sk-toggleable__label sk-toggleable__label-arrow\">PCA</label><div class=\"sk-toggleable__content\"><pre>PCA(n_components=2, whiten=True)</pre></div></div></div></div></div>"
      ],
      "text/plain": [
       "PCA(n_components=2, whiten=True)"
      ]
     },
     "execution_count": 111,
     "metadata": {},
     "output_type": "execute_result"
    }
   ],
   "source": [
    "pca.fit(x, y)"
   ]
  },
  {
   "cell_type": "code",
   "execution_count": 112,
   "metadata": {},
   "outputs": [],
   "source": [
    "x_pca = pca.transform(x)"
   ]
  },
  {
   "cell_type": "code",
   "execution_count": 113,
   "metadata": {},
   "outputs": [
    {
     "name": "stdout",
     "output_type": "stream",
     "text": [
      "variance ratio:  [0.95082641 0.04168145]\n",
      "sum:  0.9925078569538763\n"
     ]
    }
   ],
   "source": [
    "print(\"variance ratio: \", pca.explained_variance_ratio_)\n",
    "print(\"sum: \", sum(pca.explained_variance_ratio_))"
   ]
  },
  {
   "cell_type": "code",
   "execution_count": 114,
   "metadata": {},
   "outputs": [
    {
     "data": {
      "text/html": [
       "<div>\n",
       "<style scoped>\n",
       "    .dataframe tbody tr th:only-of-type {\n",
       "        vertical-align: middle;\n",
       "    }\n",
       "\n",
       "    .dataframe tbody tr th {\n",
       "        vertical-align: top;\n",
       "    }\n",
       "\n",
       "    .dataframe thead th {\n",
       "        text-align: right;\n",
       "    }\n",
       "</style>\n",
       "<table border=\"1\" class=\"dataframe\">\n",
       "  <thead>\n",
       "    <tr style=\"text-align: right;\">\n",
       "      <th></th>\n",
       "      <th>var</th>\n",
       "      <th>PCA</th>\n",
       "    </tr>\n",
       "  </thead>\n",
       "  <tbody>\n",
       "    <tr>\n",
       "      <th>0</th>\n",
       "      <td>0.950826</td>\n",
       "      <td>PCA1</td>\n",
       "    </tr>\n",
       "    <tr>\n",
       "      <th>1</th>\n",
       "      <td>0.041681</td>\n",
       "      <td>PCA2</td>\n",
       "    </tr>\n",
       "  </tbody>\n",
       "</table>\n",
       "</div>"
      ],
      "text/plain": [
       "        var   PCA\n",
       "0  0.950826  PCA1\n",
       "1  0.041681  PCA2"
      ]
     },
     "execution_count": 114,
     "metadata": {},
     "output_type": "execute_result"
    }
   ],
   "source": [
    "df_pc = pd.DataFrame({'var': pca.explained_variance_ratio_, 'PCA' : ['PCA' + str(i + 1) for i in range(len(pca.explained_variance_ratio_))]})\n",
    "df_pc"
   ]
  },
  {
   "cell_type": "code",
   "execution_count": 115,
   "metadata": {},
   "outputs": [
    {
     "name": "stdout",
     "output_type": "stream",
     "text": [
      "Explained Variance Ratio:\n",
      " [0.95082641 0.04168145]\n",
      "\n",
      "Cumulative Explained Variance:\n",
      " [0.95082641 0.99250786]\n"
     ]
    },
    {
     "data": {
      "image/png": "[encoded data removed]",
      "text/plain": [
       "<Figure size 800x600 with 1 Axes>"
      ]
     },
     "metadata": {},
     "output_type": "display_data"
    }
   ],
   "source": [
    "# Explained variance ratio\n",
    "explained_variance_ratio = pca.explained_variance_ratio_\n",
    "\n",
    "# Cumulative explained variance\n",
    "cumulative_explained_variance = np.cumsum(explained_variance_ratio)\n",
    "\n",
    "# Print results\n",
    "print(\"Explained Variance Ratio:\\n\", explained_variance_ratio)\n",
    "print(\"\\nCumulative Explained Variance:\\n\", cumulative_explained_variance)\n",
    "\n",
    "# Plot Scree Plot\n",
    "plt.figure(figsize=(8, 6))\n",
    "plt.bar(range(1, len(explained_variance_ratio) + 1), explained_variance_ratio, alpha=0.8, align='center', label='Individual explained variance')\n",
    "plt.step(range(1, len(explained_variance_ratio) + 1), cumulative_explained_variance, where='mid', label='Cumulative explained variance')\n",
    "plt.xlabel('Principal Components')\n",
    "plt.ylabel('Explained Variance Ratio')\n",
    "plt.title('Scree Plot')\n",
    "plt.legend()\n",
    "plt.show()"
   ]
  },
  {
   "cell_type": "code",
   "execution_count": 117,
   "metadata": {},
   "outputs": [
    {
     "name": "stdout",
     "output_type": "stream",
     "text": [
      "Feature: year, Weight in PC1: 0.0010142184248733972\n",
      "Feature: month, Weight in PC1: -3.399342509169401e-05\n",
      "Feature: temperature, Weight in PC1: 0.04380824924117466\n",
      "Feature: RH, Weight in PC1: -0.0006964599145504857\n",
      "Feature: wind_speed, Weight in PC1: 0.001775837751115547\n",
      "Feature: frp, Weight in PC1: 0.9981256232450226\n",
      "Feature: day_night, Weight in PC1: 9.280347401169516e-05\n",
      "Feature: daily_cdd, Weight in PC1: 0.04266239562573583\n",
      "Feature: daily_hdd, Weight in PC1: -0.0011458536154387439\n",
      "Feature: perc_frp, Weight in PC1: 8.646353038359094e-05\n"
     ]
    }
   ],
   "source": [
    "weights_of_features_in_pc1 = pca.components_[0]\n",
    "\n",
    "# Now you can associate these weights with the corresponding feature names\n",
    "feature_names = list(x.columns)  # Assuming you have named columns in your DataFrame\n",
    "weights_and_features = list(zip(weights_of_features_in_pc1, feature_names))\n",
    "\n",
    "# Print the feature names and their corresponding weights in the first principal component\n",
    "for weight, feature in weights_and_features:\n",
    "    print(f\"Feature: {feature}, Weight in PC1: {weight}\")"
   ]
  },
  {
   "cell_type": "code",
   "execution_count": 118,
   "metadata": {},
   "outputs": [
    {
     "data": {
      "text/plain": [
       "<Axes: >"
      ]
     },
     "execution_count": 118,
     "metadata": {},
     "output_type": "execute_result"
    },
    {
     "data": {
      "image/png": "[encoded data removed]",
      "text/plain": [
       "<Figure size 1500x900 with 2 Axes>"
      ]
     },
     "metadata": {},
     "output_type": "display_data"
    }
   ],
   "source": [
    "plt.figure(figsize=(15, 9))\n",
    "sns.heatmap(x.corr(), annot=True)"
   ]
  },
  {
   "cell_type": "markdown",
   "metadata": {},
   "source": [
    "## Random Forest Classifier\n"
   ]
  },
  {
   "cell_type": "code",
   "execution_count": 120,
   "metadata": {},
   "outputs": [],
   "source": [
    "from sklearn.ensemble import RandomForestClassifier\n",
    "\n",
    "model = RandomForestClassifier(n_estimators=100)"
   ]
  },
  {
   "cell_type": "code",
   "execution_count": 129,
   "metadata": {},
   "outputs": [
    {
     "name": "stdout",
     "output_type": "stream",
     "text": [
      "0       1\n",
      "1       1\n",
      "2       1\n",
      "3       1\n",
      "4       1\n",
      "       ..\n",
      "5274    1\n",
      "5275    1\n",
      "5276    1\n",
      "5277    1\n",
      "5278    1\n",
      "Name: isFired, Length: 5279, dtype: int32\n"
     ]
    },
    {
     "data": {
      "text/html": [
       "<style>#sk-container-id-7 {color: black;}#sk-container-id-7 pre{padding: 0;}#sk-container-id-7 div.sk-toggleable {background-color: white;}#sk-container-id-7 label.sk-toggleable__label {cursor: pointer;display: block;width: 100%;margin-bottom: 0;padding: 0.3em;box-sizing: border-box;text-align: center;}#sk-container-id-7 label.sk-toggleable__label-arrow:before {content: \"▸\";float: left;margin-right: 0.25em;color: #696969;}#sk-container-id-7 label.sk-toggleable__label-arrow:hover:before {color: black;}#sk-container-id-7 div.sk-estimator:hover label.sk-toggleable__label-arrow:before {color: black;}#sk-container-id-7 div.sk-toggleable__content {max-height: 0;max-width: 0;overflow: hidden;text-align: left;background-color: #f0f8ff;}#sk-container-id-7 div.sk-toggleable__content pre {margin: 0.2em;color: black;border-radius: 0.25em;background-color: #f0f8ff;}#sk-container-id-7 input.sk-toggleable__control:checked~div.sk-toggleable__content {max-height: 200px;max-width: 100%;overflow: auto;}#sk-container-id-7 input.sk-toggleable__control:checked~label.sk-toggleable__label-arrow:before {content: \"▾\";}#sk-container-id-7 div.sk-estimator input.sk-toggleable__control:checked~label.sk-toggleable__label {background-color: #d4ebff;}#sk-container-id-7 div.sk-label input.sk-toggleable__control:checked~label.sk-toggleable__label {background-color: #d4ebff;}#sk-container-id-7 input.sk-hidden--visually {border: 0;clip: rect(1px 1px 1px 1px);clip: rect(1px, 1px, 1px, 1px);height: 1px;margin: -1px;overflow: hidden;padding: 0;position: absolute;width: 1px;}#sk-container-id-7 div.sk-estimator {font-family: monospace;background-color: #f0f8ff;border: 1px dotted black;border-radius: 0.25em;box-sizing: border-box;margin-bottom: 0.5em;}#sk-container-id-7 div.sk-estimator:hover {background-color: #d4ebff;}#sk-container-id-7 div.sk-parallel-item::after {content: \"\";width: 100%;border-bottom: 1px solid gray;flex-grow: 1;}#sk-container-id-7 div.sk-label:hover label.sk-toggleable__label {background-color: #d4ebff;}#sk-container-id-7 div.sk-serial::before {content: \"\";position: absolute;border-left: 1px solid gray;box-sizing: border-box;top: 0;bottom: 0;left: 50%;z-index: 0;}#sk-container-id-7 div.sk-serial {display: flex;flex-direction: column;align-items: center;background-color: white;padding-right: 0.2em;padding-left: 0.2em;position: relative;}#sk-container-id-7 div.sk-item {position: relative;z-index: 1;}#sk-container-id-7 div.sk-parallel {display: flex;align-items: stretch;justify-content: center;background-color: white;position: relative;}#sk-container-id-7 div.sk-item::before, #sk-container-id-7 div.sk-parallel-item::before {content: \"\";position: absolute;border-left: 1px solid gray;box-sizing: border-box;top: 0;bottom: 0;left: 50%;z-index: -1;}#sk-container-id-7 div.sk-parallel-item {display: flex;flex-direction: column;z-index: 1;position: relative;background-color: white;}#sk-container-id-7 div.sk-parallel-item:first-child::after {align-self: flex-end;width: 50%;}#sk-container-id-7 div.sk-parallel-item:last-child::after {align-self: flex-start;width: 50%;}#sk-container-id-7 div.sk-parallel-item:only-child::after {width: 0;}#sk-container-id-7 div.sk-dashed-wrapped {border: 1px dashed gray;margin: 0 0.4em 0.5em 0.4em;box-sizing: border-box;padding-bottom: 0.4em;background-color: white;}#sk-container-id-7 div.sk-label label {font-family: monospace;font-weight: bold;display: inline-block;line-height: 1.2em;}#sk-container-id-7 div.sk-label-container {text-align: center;}#sk-container-id-7 div.sk-container {/* jupyter's `normalize.less` sets `[hidden] { display: none; }` but bootstrap.min.css set `[hidden] { display: none !important; }` so we also need the `!important` here to be able to override the default hidden behavior on the sphinx rendered scikit-learn.org. See: https://github.com/scikit-learn/scikit-learn/issues/21755 */display: inline-block !important;position: relative;}#sk-container-id-7 div.sk-text-repr-fallback {display: none;}</style><div id=\"sk-container-id-7\" class=\"sk-top-container\"><div class=\"sk-text-repr-fallback\"><pre>RandomForestClassifier()</pre><b>In a Jupyter environment, please rerun this cell to show the HTML representation or trust the notebook. <br />On GitHub, the HTML representation is unable to render, please try loading this page with nbviewer.org.</b></div><div class=\"sk-container\" hidden><div class=\"sk-item\"><div class=\"sk-estimator sk-toggleable\"><input class=\"sk-toggleable__control sk-hidden--visually\" id=\"sk-estimator-id-7\" type=\"checkbox\" checked><label for=\"sk-estimator-id-7\" class=\"sk-toggleable__label sk-toggleable__label-arrow\">RandomForestClassifier</label><div class=\"sk-toggleable__content\"><pre>RandomForestClassifier()</pre></div></div></div></div></div>"
      ],
      "text/plain": [
       "RandomForestClassifier()"
      ]
     },
     "execution_count": 129,
     "metadata": {},
     "output_type": "execute_result"
    }
   ],
   "source": [
    "if 'area' in x.columns:\n",
    "    x = x.drop(columns=['area'])\n",
    "y = y.astype(int)\n",
    "print(y)\n",
    "model.fit(x, y)"
   ]
  },
  {
   "cell_type": "code",
   "execution_count": 132,
   "metadata": {},
   "outputs": [
    {
     "data": {
      "text/html": [
       "<div>\n",
       "<style scoped>\n",
       "    .dataframe tbody tr th:only-of-type {\n",
       "        vertical-align: middle;\n",
       "    }\n",
       "\n",
       "    .dataframe tbody tr th {\n",
       "        vertical-align: top;\n",
       "    }\n",
       "\n",
       "    .dataframe thead th {\n",
       "        text-align: right;\n",
       "    }\n",
       "</style>\n",
       "<table border=\"1\" class=\"dataframe\">\n",
       "  <thead>\n",
       "    <tr style=\"text-align: right;\">\n",
       "      <th></th>\n",
       "      <th>Features</th>\n",
       "      <th>Importance</th>\n",
       "    </tr>\n",
       "  </thead>\n",
       "  <tbody>\n",
       "    <tr>\n",
       "      <th>6</th>\n",
       "      <td>day_night</td>\n",
       "      <td>0.001930</td>\n",
       "    </tr>\n",
       "    <tr>\n",
       "      <th>8</th>\n",
       "      <td>daily_hdd</td>\n",
       "      <td>0.015991</td>\n",
       "    </tr>\n",
       "    <tr>\n",
       "      <th>4</th>\n",
       "      <td>wind_speed</td>\n",
       "      <td>0.019586</td>\n",
       "    </tr>\n",
       "    <tr>\n",
       "      <th>0</th>\n",
       "      <td>year</td>\n",
       "      <td>0.027975</td>\n",
       "    </tr>\n",
       "    <tr>\n",
       "      <th>3</th>\n",
       "      <td>RH</td>\n",
       "      <td>0.031743</td>\n",
       "    </tr>\n",
       "    <tr>\n",
       "      <th>5</th>\n",
       "      <td>frp</td>\n",
       "      <td>0.039762</td>\n",
       "    </tr>\n",
       "    <tr>\n",
       "      <th>7</th>\n",
       "      <td>daily_cdd</td>\n",
       "      <td>0.074022</td>\n",
       "    </tr>\n",
       "    <tr>\n",
       "      <th>2</th>\n",
       "      <td>temperature</td>\n",
       "      <td>0.090138</td>\n",
       "    </tr>\n",
       "    <tr>\n",
       "      <th>9</th>\n",
       "      <td>perc_frp</td>\n",
       "      <td>0.162880</td>\n",
       "    </tr>\n",
       "    <tr>\n",
       "      <th>1</th>\n",
       "      <td>month</td>\n",
       "      <td>0.535971</td>\n",
       "    </tr>\n",
       "  </tbody>\n",
       "</table>\n",
       "</div>"
      ],
      "text/plain": [
       "      Features  Importance\n",
       "6    day_night    0.001930\n",
       "8    daily_hdd    0.015991\n",
       "4   wind_speed    0.019586\n",
       "0         year    0.027975\n",
       "3           RH    0.031743\n",
       "5          frp    0.039762\n",
       "7    daily_cdd    0.074022\n",
       "2  temperature    0.090138\n",
       "9     perc_frp    0.162880\n",
       "1        month    0.535971"
      ]
     },
     "execution_count": 132,
     "metadata": {},
     "output_type": "execute_result"
    }
   ],
   "source": [
    "importances = model.feature_importances_\n",
    "\n",
    "final_df = pd.DataFrame({'Features': x.columns, 'Importance': importances})\n",
    "final_df = final_df.sort_values('Importance')\n",
    "final_df"
   ]
  },
  {
   "cell_type": "code",
   "execution_count": 133,
   "metadata": {},
   "outputs": [
    {
     "ename": "ValueError",
     "evalue": "Boolean array expected for the condition, not object",
     "output_type": "error",
     "traceback": [
      "\u001b[1;31m---------------------------------------------------------------------------\u001b[0m",
      "\u001b[1;31mValueError\u001b[0m                                Traceback (most recent call last)",
      "\u001b[1;32m~\\AppData\\Local\\Temp\\ipykernel_12508\\3821702854.py\u001b[0m in \u001b[0;36m?\u001b[1;34m()\u001b[0m\n\u001b[1;32m----> 1\u001b[1;33m \u001b[0mfinal_df\u001b[0m\u001b[1;33m.\u001b[0m\u001b[0mplot\u001b[0m\u001b[1;33m.\u001b[0m\u001b[0mbar\u001b[0m\u001b[1;33m(\u001b[0m\u001b[0mx\u001b[0m\u001b[1;33m=\u001b[0m\u001b[0mfinal_df\u001b[0m\u001b[1;33m)\u001b[0m\u001b[1;33m\u001b[0m\u001b[1;33m\u001b[0m\u001b[0m\n\u001b[0m",
      "\u001b[1;32mc:\\Users\\Yusuf\\Desktop\\Bitirme\\Machine Learning Model\\venv\\lib\\site-packages\\pandas\\plotting\\_core.py\u001b[0m in \u001b[0;36m?\u001b[1;34m(self, x, y, **kwargs)\u001b[0m\n\u001b[0;32m   1189\u001b[0m         \u001b[0mrepresent\u001b[0m\u001b[1;33m.\u001b[0m \u001b[0mA\u001b[0m \u001b[0mbar\u001b[0m \u001b[0mplot\u001b[0m \u001b[0mshows\u001b[0m \u001b[0mcomparisons\u001b[0m \u001b[0mamong\u001b[0m \u001b[0mdiscrete\u001b[0m \u001b[0mcategories\u001b[0m\u001b[1;33m.\u001b[0m \u001b[0mOne\u001b[0m\u001b[1;33m\u001b[0m\u001b[1;33m\u001b[0m\u001b[0m\n\u001b[0;32m   1190\u001b[0m         \u001b[0maxis\u001b[0m \u001b[0mof\u001b[0m \u001b[0mthe\u001b[0m \u001b[0mplot\u001b[0m \u001b[0mshows\u001b[0m \u001b[0mthe\u001b[0m \u001b[0mspecific\u001b[0m \u001b[0mcategories\u001b[0m \u001b[0mbeing\u001b[0m \u001b[0mcompared\u001b[0m\u001b[1;33m,\u001b[0m \u001b[1;32mand\u001b[0m \u001b[0mthe\u001b[0m\u001b[1;33m\u001b[0m\u001b[1;33m\u001b[0m\u001b[0m\n\u001b[0;32m   1191\u001b[0m         \u001b[0mother\u001b[0m \u001b[0maxis\u001b[0m \u001b[0mrepresents\u001b[0m \u001b[0ma\u001b[0m \u001b[0mmeasured\u001b[0m \u001b[0mvalue\u001b[0m\u001b[1;33m.\u001b[0m\u001b[1;33m\u001b[0m\u001b[1;33m\u001b[0m\u001b[0m\n\u001b[0;32m   1192\u001b[0m         \"\"\"\n\u001b[1;32m-> 1193\u001b[1;33m         \u001b[1;32mreturn\u001b[0m \u001b[0mself\u001b[0m\u001b[1;33m(\u001b[0m\u001b[0mkind\u001b[0m\u001b[1;33m=\u001b[0m\u001b[1;34m\"bar\"\u001b[0m\u001b[1;33m,\u001b[0m \u001b[0mx\u001b[0m\u001b[1;33m=\u001b[0m\u001b[0mx\u001b[0m\u001b[1;33m,\u001b[0m \u001b[0my\u001b[0m\u001b[1;33m=\u001b[0m\u001b[0my\u001b[0m\u001b[1;33m,\u001b[0m \u001b[1;33m**\u001b[0m\u001b[0mkwargs\u001b[0m\u001b[1;33m)\u001b[0m\u001b[1;33m\u001b[0m\u001b[1;33m\u001b[0m\u001b[0m\n\u001b[0m",
      "\u001b[1;32mc:\\Users\\Yusuf\\Desktop\\Bitirme\\Machine Learning Model\\venv\\lib\\site-packages\\pandas\\plotting\\_core.py\u001b[0m in \u001b[0;36m?\u001b[1;34m(self, *args, **kwargs)\u001b[0m\n\u001b[0;32m    992\u001b[0m             \u001b[0mdata_cols\u001b[0m \u001b[1;33m=\u001b[0m \u001b[0mdata\u001b[0m\u001b[1;33m.\u001b[0m\u001b[0mcolumns\u001b[0m\u001b[1;33m\u001b[0m\u001b[1;33m\u001b[0m\u001b[0m\n\u001b[0;32m    993\u001b[0m             \u001b[1;32mif\u001b[0m \u001b[0mx\u001b[0m \u001b[1;32mis\u001b[0m \u001b[1;32mnot\u001b[0m \u001b[1;32mNone\u001b[0m\u001b[1;33m:\u001b[0m\u001b[1;33m\u001b[0m\u001b[1;33m\u001b[0m\u001b[0m\n\u001b[0;32m    994\u001b[0m                 \u001b[1;32mif\u001b[0m \u001b[0mis_integer\u001b[0m\u001b[1;33m(\u001b[0m\u001b[0mx\u001b[0m\u001b[1;33m)\u001b[0m \u001b[1;32mand\u001b[0m \u001b[1;32mnot\u001b[0m \u001b[0mdata\u001b[0m\u001b[1;33m.\u001b[0m\u001b[0mcolumns\u001b[0m\u001b[1;33m.\u001b[0m\u001b[0m_holds_integer\u001b[0m\u001b[1;33m(\u001b[0m\u001b[1;33m)\u001b[0m\u001b[1;33m:\u001b[0m\u001b[1;33m\u001b[0m\u001b[1;33m\u001b[0m\u001b[0m\n\u001b[0;32m    995\u001b[0m                     \u001b[0mx\u001b[0m \u001b[1;33m=\u001b[0m \u001b[0mdata_cols\u001b[0m\u001b[1;33m[\u001b[0m\u001b[0mx\u001b[0m\u001b[1;33m]\u001b[0m\u001b[1;33m\u001b[0m\u001b[1;33m\u001b[0m\u001b[0m\n\u001b[1;32m--> 996\u001b[1;33m                 \u001b[1;32melif\u001b[0m \u001b[1;32mnot\u001b[0m \u001b[0misinstance\u001b[0m\u001b[1;33m(\u001b[0m\u001b[0mdata\u001b[0m\u001b[1;33m[\u001b[0m\u001b[0mx\u001b[0m\u001b[1;33m]\u001b[0m\u001b[1;33m,\u001b[0m \u001b[0mABCSeries\u001b[0m\u001b[1;33m)\u001b[0m\u001b[1;33m:\u001b[0m\u001b[1;33m\u001b[0m\u001b[1;33m\u001b[0m\u001b[0m\n\u001b[0m\u001b[0;32m    997\u001b[0m                     \u001b[1;32mraise\u001b[0m \u001b[0mValueError\u001b[0m\u001b[1;33m(\u001b[0m\u001b[1;34m\"x must be a label or position\"\u001b[0m\u001b[1;33m)\u001b[0m\u001b[1;33m\u001b[0m\u001b[1;33m\u001b[0m\u001b[0m\n\u001b[0;32m    998\u001b[0m                 \u001b[0mdata\u001b[0m \u001b[1;33m=\u001b[0m \u001b[0mdata\u001b[0m\u001b[1;33m.\u001b[0m\u001b[0mset_index\u001b[0m\u001b[1;33m(\u001b[0m\u001b[0mx\u001b[0m\u001b[1;33m)\u001b[0m\u001b[1;33m\u001b[0m\u001b[1;33m\u001b[0m\u001b[0m\n\u001b[0;32m    999\u001b[0m             \u001b[1;32mif\u001b[0m \u001b[0my\u001b[0m \u001b[1;32mis\u001b[0m \u001b[1;32mnot\u001b[0m \u001b[1;32mNone\u001b[0m\u001b[1;33m:\u001b[0m\u001b[1;33m\u001b[0m\u001b[1;33m\u001b[0m\u001b[0m\n",
      "\u001b[1;32mc:\\Users\\Yusuf\\Desktop\\Bitirme\\Machine Learning Model\\venv\\lib\\site-packages\\pandas\\core\\frame.py\u001b[0m in \u001b[0;36m?\u001b[1;34m(self, key)\u001b[0m\n\u001b[0;32m   3879\u001b[0m             \u001b[1;32mreturn\u001b[0m \u001b[0mself\u001b[0m\u001b[1;33m.\u001b[0m\u001b[0m_getitem_slice\u001b[0m\u001b[1;33m(\u001b[0m\u001b[0mkey\u001b[0m\u001b[1;33m)\u001b[0m\u001b[1;33m\u001b[0m\u001b[1;33m\u001b[0m\u001b[0m\n\u001b[0;32m   3880\u001b[0m \u001b[1;33m\u001b[0m\u001b[0m\n\u001b[0;32m   3881\u001b[0m         \u001b[1;31m# Do we have a (boolean) DataFrame?\u001b[0m\u001b[1;33m\u001b[0m\u001b[1;33m\u001b[0m\u001b[0m\n\u001b[0;32m   3882\u001b[0m         \u001b[1;32mif\u001b[0m \u001b[0misinstance\u001b[0m\u001b[1;33m(\u001b[0m\u001b[0mkey\u001b[0m\u001b[1;33m,\u001b[0m \u001b[0mDataFrame\u001b[0m\u001b[1;33m)\u001b[0m\u001b[1;33m:\u001b[0m\u001b[1;33m\u001b[0m\u001b[1;33m\u001b[0m\u001b[0m\n\u001b[1;32m-> 3883\u001b[1;33m             \u001b[1;32mreturn\u001b[0m \u001b[0mself\u001b[0m\u001b[1;33m.\u001b[0m\u001b[0mwhere\u001b[0m\u001b[1;33m(\u001b[0m\u001b[0mkey\u001b[0m\u001b[1;33m)\u001b[0m\u001b[1;33m\u001b[0m\u001b[1;33m\u001b[0m\u001b[0m\n\u001b[0m\u001b[0;32m   3884\u001b[0m \u001b[1;33m\u001b[0m\u001b[0m\n\u001b[0;32m   3885\u001b[0m         \u001b[1;31m# Do we have a (boolean) 1d indexer?\u001b[0m\u001b[1;33m\u001b[0m\u001b[1;33m\u001b[0m\u001b[0m\n\u001b[0;32m   3886\u001b[0m         \u001b[1;32mif\u001b[0m \u001b[0mcom\u001b[0m\u001b[1;33m.\u001b[0m\u001b[0mis_bool_indexer\u001b[0m\u001b[1;33m(\u001b[0m\u001b[0mkey\u001b[0m\u001b[1;33m)\u001b[0m\u001b[1;33m:\u001b[0m\u001b[1;33m\u001b[0m\u001b[1;33m\u001b[0m\u001b[0m\n",
      "\u001b[1;32mc:\\Users\\Yusuf\\Desktop\\Bitirme\\Machine Learning Model\\venv\\lib\\site-packages\\pandas\\core\\generic.py\u001b[0m in \u001b[0;36m?\u001b[1;34m(self, cond, other, inplace, axis, level)\u001b[0m\n\u001b[0;32m  10599\u001b[0m                         \u001b[0mChainedAssignmentError\u001b[0m\u001b[1;33m,\u001b[0m\u001b[1;33m\u001b[0m\u001b[1;33m\u001b[0m\u001b[0m\n\u001b[0;32m  10600\u001b[0m                         \u001b[0mstacklevel\u001b[0m\u001b[1;33m=\u001b[0m\u001b[1;36m2\u001b[0m\u001b[1;33m,\u001b[0m\u001b[1;33m\u001b[0m\u001b[1;33m\u001b[0m\u001b[0m\n\u001b[0;32m  10601\u001b[0m                     )\n\u001b[0;32m  10602\u001b[0m         \u001b[0mother\u001b[0m \u001b[1;33m=\u001b[0m \u001b[0mcommon\u001b[0m\u001b[1;33m.\u001b[0m\u001b[0mapply_if_callable\u001b[0m\u001b[1;33m(\u001b[0m\u001b[0mother\u001b[0m\u001b[1;33m,\u001b[0m \u001b[0mself\u001b[0m\u001b[1;33m)\u001b[0m\u001b[1;33m\u001b[0m\u001b[1;33m\u001b[0m\u001b[0m\n\u001b[1;32m> 10603\u001b[1;33m         \u001b[1;32mreturn\u001b[0m \u001b[0mself\u001b[0m\u001b[1;33m.\u001b[0m\u001b[0m_where\u001b[0m\u001b[1;33m(\u001b[0m\u001b[0mcond\u001b[0m\u001b[1;33m,\u001b[0m \u001b[0mother\u001b[0m\u001b[1;33m,\u001b[0m \u001b[0minplace\u001b[0m\u001b[1;33m,\u001b[0m \u001b[0maxis\u001b[0m\u001b[1;33m,\u001b[0m \u001b[0mlevel\u001b[0m\u001b[1;33m)\u001b[0m\u001b[1;33m\u001b[0m\u001b[1;33m\u001b[0m\u001b[0m\n\u001b[0m",
      "\u001b[1;32mc:\\Users\\Yusuf\\Desktop\\Bitirme\\Machine Learning Model\\venv\\lib\\site-packages\\pandas\\core\\generic.py\u001b[0m in \u001b[0;36m?\u001b[1;34m(self, cond, other, inplace, axis, level)\u001b[0m\n\u001b[0;32m  10305\u001b[0m                     \u001b[1;32mraise\u001b[0m \u001b[0mValueError\u001b[0m\u001b[1;33m(\u001b[0m\u001b[0mmsg\u001b[0m\u001b[1;33m.\u001b[0m\u001b[0mformat\u001b[0m\u001b[1;33m(\u001b[0m\u001b[0mdtype\u001b[0m\u001b[1;33m=\u001b[0m\u001b[0mcond\u001b[0m\u001b[1;33m.\u001b[0m\u001b[0mdtype\u001b[0m\u001b[1;33m)\u001b[0m\u001b[1;33m)\u001b[0m\u001b[1;33m\u001b[0m\u001b[1;33m\u001b[0m\u001b[0m\n\u001b[0;32m  10306\u001b[0m             \u001b[1;32melse\u001b[0m\u001b[1;33m:\u001b[0m\u001b[1;33m\u001b[0m\u001b[1;33m\u001b[0m\u001b[0m\n\u001b[0;32m  10307\u001b[0m                 \u001b[1;32mfor\u001b[0m \u001b[0m_dt\u001b[0m \u001b[1;32min\u001b[0m \u001b[0mcond\u001b[0m\u001b[1;33m.\u001b[0m\u001b[0mdtypes\u001b[0m\u001b[1;33m:\u001b[0m\u001b[1;33m\u001b[0m\u001b[1;33m\u001b[0m\u001b[0m\n\u001b[0;32m  10308\u001b[0m                     \u001b[1;32mif\u001b[0m \u001b[1;32mnot\u001b[0m \u001b[0mis_bool_dtype\u001b[0m\u001b[1;33m(\u001b[0m\u001b[0m_dt\u001b[0m\u001b[1;33m)\u001b[0m\u001b[1;33m:\u001b[0m\u001b[1;33m\u001b[0m\u001b[1;33m\u001b[0m\u001b[0m\n\u001b[1;32m> 10309\u001b[1;33m                         \u001b[1;32mraise\u001b[0m \u001b[0mValueError\u001b[0m\u001b[1;33m(\u001b[0m\u001b[0mmsg\u001b[0m\u001b[1;33m.\u001b[0m\u001b[0mformat\u001b[0m\u001b[1;33m(\u001b[0m\u001b[0mdtype\u001b[0m\u001b[1;33m=\u001b[0m\u001b[0m_dt\u001b[0m\u001b[1;33m)\u001b[0m\u001b[1;33m)\u001b[0m\u001b[1;33m\u001b[0m\u001b[1;33m\u001b[0m\u001b[0m\n\u001b[0m\u001b[0;32m  10310\u001b[0m                 \u001b[1;32mif\u001b[0m \u001b[0mcond\u001b[0m\u001b[1;33m.\u001b[0m\u001b[0m_mgr\u001b[0m\u001b[1;33m.\u001b[0m\u001b[0many_extension_types\u001b[0m\u001b[1;33m:\u001b[0m\u001b[1;33m\u001b[0m\u001b[1;33m\u001b[0m\u001b[0m\n\u001b[0;32m  10311\u001b[0m                     \u001b[1;31m# GH51574: avoid object ndarray conversion later on\u001b[0m\u001b[1;33m\u001b[0m\u001b[1;33m\u001b[0m\u001b[0m\n\u001b[0;32m  10312\u001b[0m                     cond = cond._constructor(\n",
      "\u001b[1;31mValueError\u001b[0m: Boolean array expected for the condition, not object"
     ]
    }
   ],
   "source": [
    "final_df.plot.bar(x=final_df)"
   ]
  },
  {
   "cell_type": "code",
   "execution_count": 134,
   "metadata": {},
   "outputs": [
    {
     "ename": "TypeError",
     "evalue": "Series.isin() missing 1 required positional argument: 'values'",
     "output_type": "error",
     "traceback": [
      "\u001b[1;31m---------------------------------------------------------------------------\u001b[0m",
      "\u001b[1;31mTypeError\u001b[0m                                 Traceback (most recent call last)",
      "Cell \u001b[1;32mIn[134], line 2\u001b[0m\n\u001b[0;32m      1\u001b[0m removal_rows \u001b[38;5;241m=\u001b[39m [\u001b[38;5;124m'\u001b[39m\u001b[38;5;124mX\u001b[39m\u001b[38;5;124m'\u001b[39m, \u001b[38;5;124m'\u001b[39m\u001b[38;5;124mY\u001b[39m\u001b[38;5;124m'\u001b[39m, \u001b[38;5;124m'\u001b[39m\u001b[38;5;124mDC\u001b[39m\u001b[38;5;124m'\u001b[39m, \u001b[38;5;124m'\u001b[39m\u001b[38;5;124mDMC\u001b[39m\u001b[38;5;124m'\u001b[39m, \u001b[38;5;124m'\u001b[39m\u001b[38;5;124mISI\u001b[39m\u001b[38;5;124m'\u001b[39m, \u001b[38;5;124m'\u001b[39m\u001b[38;5;124mFFMC\u001b[39m\u001b[38;5;124m'\u001b[39m]\n\u001b[1;32m----> 2\u001b[0m final_df \u001b[38;5;241m=\u001b[39m final_df[\u001b[43mfinal_df\u001b[49m\u001b[43m[\u001b[49m\u001b[38;5;124;43m'\u001b[39;49m\u001b[38;5;124;43mFeatures\u001b[39;49m\u001b[38;5;124;43m'\u001b[39;49m\u001b[43m]\u001b[49m\u001b[38;5;241;43m.\u001b[39;49m\u001b[43misin\u001b[49m\u001b[43m(\u001b[49m\u001b[43m)\u001b[49m]\n\u001b[0;32m      3\u001b[0m final_df[\u001b[38;5;124m'\u001b[39m\u001b[38;5;124mImportance\u001b[39m\u001b[38;5;124m'\u001b[39m]\u001b[38;5;241m.\u001b[39msum()\n",
      "\u001b[1;31mTypeError\u001b[0m: Series.isin() missing 1 required positional argument: 'values'"
     ]
    }
   ],
   "source": [
    "removal_rows = ['X', 'Y', 'DC', 'DMC', 'ISI', 'FFMC']\n",
    "final_df = final_df[final_df['Features'].isin()]\n",
    "final_df['Importance'].sum()"
   ]
  },
  {
   "cell_type": "code",
   "execution_count": null,
   "metadata": {},
   "outputs": [],
   "source": []
  },
  {
   "cell_type": "code",
   "execution_count": null,
   "metadata": {},
   "outputs": [],
   "source": []
  }
 ],
 "metadata": {
  "kernelspec": {
   "display_name": ".venv",
   "language": "python",
   "name": "python3"
  },
  "language_info": {
   "codemirror_mode": {
    "name": "ipython",
    "version": 3
   },
   "file_extension": ".py",
   "mimetype": "text/x-python",
   "name": "python",
   "nbconvert_exporter": "python",
   "pygments_lexer": "ipython3",
   "version": "3.10.11"
  }
 },
 "nbformat": 4,
 "nbformat_minor": 2
}
